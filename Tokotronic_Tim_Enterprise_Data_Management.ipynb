{
 "cells": [
  {
   "cell_type": "markdown",
   "metadata": {
    "id": "clOB0AEiA5_K"
   },
   "source": [
    "**An international e-commerce company based wants to discover key insights from their customer database. They want to use some of the most advanced machine learning techniques to study their customers. The company sells electronic products.**"
   ]
  },
  {
   "cell_type": "markdown",
   "metadata": {
    "id": "fixcB1AaA88r"
   },
   "source": [
    "**Data Description**\n",
    "\n",
    "**ID**: ID Number of Customers.\n",
    "\n",
    "**Warehouse block**: The Company have big Warehouse which is divided in to block such as A,B,C,D,E.\n",
    "\n",
    "**Mode of shipment**:The Company Ships the products in multiple way such as Ship, Flight and Road.\n",
    "\n",
    "**Customer care calls**: The number of calls made from enquiry for enquiry of the shipment.\n",
    "\n",
    "**Customer rating**: The company has rated from every customer. 1 is the lowest (Worst), 5 is the highest (Best).\n",
    "\n",
    "**Cost of the product**: Cost of the Product in US Dollars.\n",
    "\n",
    "**Prior purchases**: The Number of Prior Purchase.\n",
    "\n",
    "**Product importance**: The company has categorized the product in the various parameter such as low, medium, high.\n",
    "\n",
    "**Gender**: Male and Female.\n",
    "\n",
    "**Discount offered**: Discount offered on that specific product.\n",
    "\n",
    "**Weight in gms**: It is the weight in grams.\n",
    "\n",
    "**Reached on time**: It is the target variable, where 1 Indicates that the product has NOT reached on time and 0 indicates it has reached on time.\n",
    "\n",
    "\n",
    "[Source Dataset](https://www.kaggle.com/datasets/prachi13/customer-analytics?select=Train.csv)"
   ]
  },
  {
   "cell_type": "markdown",
   "metadata": {
    "id": "8-Ui_89aiE3e"
   },
   "source": [
    "#Import Library"
   ]
  },
  {
   "cell_type": "code",
   "execution_count": null,
   "metadata": {
    "id": "fDcFsMRiAvIe"
   },
   "outputs": [],
   "source": [
    "#Lib for dataframe, agg, and data viz\n",
    "from IPython import display\n",
    "import pandas as pd\n",
    "import matplotlib.pyplot as plt\n",
    "from matplotlib import rcParams\n",
    "rcParams['figure.figsize'] = 12, 4\n",
    "rcParams['lines.linewidth'] = 0\n",
    "rcParams['xtick.labelsize'] = 'x-large'\n",
    "rcParams['ytick.labelsize'] = 'x-large'\n",
    "plt.style.use('fivethirtyeight')\n",
    "import seaborn as sns\n",
    "sns.set_theme(style=\"whitegrid\")\n",
    "import numpy as np\n",
    "from textwrap import wrap\n",
    "import plotly.express as px\n",
    "import warnings\n",
    "warnings.filterwarnings('ignore')\n",
    "\n",
    "#lib for preprocessing\n",
    "# Library for Scalling Data\n",
    "from sklearn.preprocessing import StandardScaler, MinMaxScaler\n",
    "from scipy.stats import boxcox\n",
    "import warnings\n",
    "# Library for Split Data\n",
    "from sklearn.model_selection import train_test_split\n",
    "# Library for Z-Score\n",
    "from scipy import stats\n",
    "\n",
    "# Import Library\n",
    "\n",
    "# Evaluation metrics\n",
    "from sklearn.metrics import accuracy_score, precision_score, recall_score, f1_score\n",
    "from sklearn.metrics import roc_auc_score, confusion_matrix, classification_report\n",
    "from sklearn.metrics import plot_confusion_matrix\n",
    "from sklearn.model_selection import cross_validate\n",
    "\n"
   ]
  },
  {
   "cell_type": "code",
   "execution_count": null,
   "metadata": {
    "id": "Azx_p4_dQfoV"
   },
   "outputs": [],
   "source": []
  },
  {
   "cell_type": "markdown",
   "metadata": {
    "id": "8a570959-e384-4273-98af-faea0f007ff2"
   },
   "source": [
    "## Load Data Frame"
   ]
  },
  {
   "cell_type": "code",
   "execution_count": null,
   "metadata": {
    "colab": {
     "base_uri": "https://localhost:8080/"
    },
    "id": "Nx9pNbP-7nv4",
    "outputId": "380460d0-9f21-430c-f17b-443fe2bdd241"
   },
   "outputs": [],
   "source": [
    "#from google.colab import drive\n",
    "#drive.mount('/content/gdrive')"
   ]
  },
  {
   "cell_type": "code",
   "execution_count": null,
   "metadata": {
    "colab": {
     "base_uri": "https://localhost:8080/"
    },
    "id": "bD4_K3247rRc",
    "outputId": "e1f127be-71c8-4764-e066-7468c4c51289"
   },
   "outputs": [],
   "source": [
    "#%cd /content/gdrive/My Drive/Colab Notebooks/FINPRO RAKAMIN 29/"
   ]
  },
  {
   "cell_type": "code",
   "execution_count": null,
   "metadata": {
    "colab": {
     "base_uri": "https://localhost:8080/",
     "height": 206
    },
    "id": "8c250702-6da4-4619-a32c-7ed002fa095e",
    "outputId": "b9f6d0b3-1886-4b5c-c5a5-682bd58fe9fa"
   },
   "outputs": [
    {
     "data": {
      "text/html": [
       "<div>\n",
       "<style scoped>\n",
       "    .dataframe tbody tr th:only-of-type {\n",
       "        vertical-align: middle;\n",
       "    }\n",
       "\n",
       "    .dataframe tbody tr th {\n",
       "        vertical-align: top;\n",
       "    }\n",
       "\n",
       "    .dataframe thead th {\n",
       "        text-align: right;\n",
       "    }\n",
       "</style>\n",
       "<table border=\"1\" class=\"dataframe\">\n",
       "  <thead>\n",
       "    <tr style=\"text-align: right;\">\n",
       "      <th></th>\n",
       "      <th>ID</th>\n",
       "      <th>Warehouse_block</th>\n",
       "      <th>Mode_of_Shipment</th>\n",
       "      <th>Customer_care_calls</th>\n",
       "      <th>Customer_rating</th>\n",
       "      <th>Cost_of_the_Product</th>\n",
       "      <th>Prior_purchases</th>\n",
       "      <th>Product_importance</th>\n",
       "      <th>Gender</th>\n",
       "      <th>Discount_offered</th>\n",
       "      <th>Weight_in_gms</th>\n",
       "      <th>Reached.on.Time_Y.N</th>\n",
       "    </tr>\n",
       "  </thead>\n",
       "  <tbody>\n",
       "    <tr>\n",
       "      <th>5590</th>\n",
       "      <td>5591</td>\n",
       "      <td>C</td>\n",
       "      <td>Road</td>\n",
       "      <td>5</td>\n",
       "      <td>5</td>\n",
       "      <td>195</td>\n",
       "      <td>4</td>\n",
       "      <td>medium</td>\n",
       "      <td>M</td>\n",
       "      <td>1</td>\n",
       "      <td>4482</td>\n",
       "      <td>0</td>\n",
       "    </tr>\n",
       "    <tr>\n",
       "      <th>7897</th>\n",
       "      <td>7898</td>\n",
       "      <td>F</td>\n",
       "      <td>Ship</td>\n",
       "      <td>3</td>\n",
       "      <td>4</td>\n",
       "      <td>163</td>\n",
       "      <td>3</td>\n",
       "      <td>high</td>\n",
       "      <td>F</td>\n",
       "      <td>6</td>\n",
       "      <td>5912</td>\n",
       "      <td>0</td>\n",
       "    </tr>\n",
       "    <tr>\n",
       "      <th>4873</th>\n",
       "      <td>4874</td>\n",
       "      <td>F</td>\n",
       "      <td>Ship</td>\n",
       "      <td>4</td>\n",
       "      <td>4</td>\n",
       "      <td>225</td>\n",
       "      <td>2</td>\n",
       "      <td>medium</td>\n",
       "      <td>M</td>\n",
       "      <td>10</td>\n",
       "      <td>4829</td>\n",
       "      <td>1</td>\n",
       "    </tr>\n",
       "    <tr>\n",
       "      <th>7460</th>\n",
       "      <td>7461</td>\n",
       "      <td>A</td>\n",
       "      <td>Ship</td>\n",
       "      <td>7</td>\n",
       "      <td>2</td>\n",
       "      <td>289</td>\n",
       "      <td>4</td>\n",
       "      <td>low</td>\n",
       "      <td>M</td>\n",
       "      <td>5</td>\n",
       "      <td>1918</td>\n",
       "      <td>1</td>\n",
       "    </tr>\n",
       "    <tr>\n",
       "      <th>6318</th>\n",
       "      <td>6319</td>\n",
       "      <td>D</td>\n",
       "      <td>Flight</td>\n",
       "      <td>6</td>\n",
       "      <td>3</td>\n",
       "      <td>191</td>\n",
       "      <td>6</td>\n",
       "      <td>medium</td>\n",
       "      <td>F</td>\n",
       "      <td>2</td>\n",
       "      <td>4471</td>\n",
       "      <td>0</td>\n",
       "    </tr>\n",
       "  </tbody>\n",
       "</table>\n",
       "</div>"
      ],
      "text/plain": [
       "        ID Warehouse_block Mode_of_Shipment  Customer_care_calls  \\\n",
       "5590  5591               C             Road                    5   \n",
       "7897  7898               F             Ship                    3   \n",
       "4873  4874               F             Ship                    4   \n",
       "7460  7461               A             Ship                    7   \n",
       "6318  6319               D           Flight                    6   \n",
       "\n",
       "      Customer_rating  Cost_of_the_Product  Prior_purchases  \\\n",
       "5590                5                  195                4   \n",
       "7897                4                  163                3   \n",
       "4873                4                  225                2   \n",
       "7460                2                  289                4   \n",
       "6318                3                  191                6   \n",
       "\n",
       "     Product_importance Gender  Discount_offered  Weight_in_gms  \\\n",
       "5590             medium      M                 1           4482   \n",
       "7897               high      F                 6           5912   \n",
       "4873             medium      M                10           4829   \n",
       "7460                low      M                 5           1918   \n",
       "6318             medium      F                 2           4471   \n",
       "\n",
       "      Reached.on.Time_Y.N  \n",
       "5590                    0  \n",
       "7897                    0  \n",
       "4873                    1  \n",
       "7460                    1  \n",
       "6318                    0  "
      ]
     },
     "execution_count": 4,
     "metadata": {},
     "output_type": "execute_result"
    }
   ],
   "source": [
    "df = pd.read_csv('Train.csv')\n",
    "df.sample(5)"
   ]
  },
  {
   "cell_type": "markdown",
   "metadata": {
    "id": "wNEEVoHaQbtD"
   },
   "source": [
    "#Stage 1 Exploratory Data Analytics (EDA)"
   ]
  },
  {
   "cell_type": "code",
   "execution_count": null,
   "metadata": {
    "colab": {
     "base_uri": "https://localhost:8080/",
     "height": 300
    },
    "id": "YdeofjpVQbHY",
    "outputId": "c4ccc68b-0a3d-4519-96f4-e811b006fee8"
   },
   "outputs": [
    {
     "data": {
      "text/html": [
       "<div>\n",
       "<style scoped>\n",
       "    .dataframe tbody tr th:only-of-type {\n",
       "        vertical-align: middle;\n",
       "    }\n",
       "\n",
       "    .dataframe tbody tr th {\n",
       "        vertical-align: top;\n",
       "    }\n",
       "\n",
       "    .dataframe thead th {\n",
       "        text-align: right;\n",
       "    }\n",
       "</style>\n",
       "<table border=\"1\" class=\"dataframe\">\n",
       "  <thead>\n",
       "    <tr style=\"text-align: right;\">\n",
       "      <th></th>\n",
       "      <th>ID</th>\n",
       "      <th>Customer_care_calls</th>\n",
       "      <th>Customer_rating</th>\n",
       "      <th>Cost_of_the_Product</th>\n",
       "      <th>Prior_purchases</th>\n",
       "      <th>Discount_offered</th>\n",
       "      <th>Weight_in_gms</th>\n",
       "      <th>Reached.on.Time_Y.N</th>\n",
       "    </tr>\n",
       "  </thead>\n",
       "  <tbody>\n",
       "    <tr>\n",
       "      <th>count</th>\n",
       "      <td>10999.00000</td>\n",
       "      <td>10999.000000</td>\n",
       "      <td>10999.000000</td>\n",
       "      <td>10999.000000</td>\n",
       "      <td>10999.000000</td>\n",
       "      <td>10999.000000</td>\n",
       "      <td>10999.000000</td>\n",
       "      <td>10999.000000</td>\n",
       "    </tr>\n",
       "    <tr>\n",
       "      <th>mean</th>\n",
       "      <td>5500.00000</td>\n",
       "      <td>4.054459</td>\n",
       "      <td>2.990545</td>\n",
       "      <td>210.196836</td>\n",
       "      <td>3.567597</td>\n",
       "      <td>13.373216</td>\n",
       "      <td>3634.016729</td>\n",
       "      <td>0.596691</td>\n",
       "    </tr>\n",
       "    <tr>\n",
       "      <th>std</th>\n",
       "      <td>3175.28214</td>\n",
       "      <td>1.141490</td>\n",
       "      <td>1.413603</td>\n",
       "      <td>48.063272</td>\n",
       "      <td>1.522860</td>\n",
       "      <td>16.205527</td>\n",
       "      <td>1635.377251</td>\n",
       "      <td>0.490584</td>\n",
       "    </tr>\n",
       "    <tr>\n",
       "      <th>min</th>\n",
       "      <td>1.00000</td>\n",
       "      <td>2.000000</td>\n",
       "      <td>1.000000</td>\n",
       "      <td>96.000000</td>\n",
       "      <td>2.000000</td>\n",
       "      <td>1.000000</td>\n",
       "      <td>1001.000000</td>\n",
       "      <td>0.000000</td>\n",
       "    </tr>\n",
       "    <tr>\n",
       "      <th>25%</th>\n",
       "      <td>2750.50000</td>\n",
       "      <td>3.000000</td>\n",
       "      <td>2.000000</td>\n",
       "      <td>169.000000</td>\n",
       "      <td>3.000000</td>\n",
       "      <td>4.000000</td>\n",
       "      <td>1839.500000</td>\n",
       "      <td>0.000000</td>\n",
       "    </tr>\n",
       "    <tr>\n",
       "      <th>50%</th>\n",
       "      <td>5500.00000</td>\n",
       "      <td>4.000000</td>\n",
       "      <td>3.000000</td>\n",
       "      <td>214.000000</td>\n",
       "      <td>3.000000</td>\n",
       "      <td>7.000000</td>\n",
       "      <td>4149.000000</td>\n",
       "      <td>1.000000</td>\n",
       "    </tr>\n",
       "    <tr>\n",
       "      <th>75%</th>\n",
       "      <td>8249.50000</td>\n",
       "      <td>5.000000</td>\n",
       "      <td>4.000000</td>\n",
       "      <td>251.000000</td>\n",
       "      <td>4.000000</td>\n",
       "      <td>10.000000</td>\n",
       "      <td>5050.000000</td>\n",
       "      <td>1.000000</td>\n",
       "    </tr>\n",
       "    <tr>\n",
       "      <th>max</th>\n",
       "      <td>10999.00000</td>\n",
       "      <td>7.000000</td>\n",
       "      <td>5.000000</td>\n",
       "      <td>310.000000</td>\n",
       "      <td>10.000000</td>\n",
       "      <td>65.000000</td>\n",
       "      <td>7846.000000</td>\n",
       "      <td>1.000000</td>\n",
       "    </tr>\n",
       "  </tbody>\n",
       "</table>\n",
       "</div>"
      ],
      "text/plain": [
       "                ID  Customer_care_calls  Customer_rating  Cost_of_the_Product  \\\n",
       "count  10999.00000         10999.000000     10999.000000         10999.000000   \n",
       "mean    5500.00000             4.054459         2.990545           210.196836   \n",
       "std     3175.28214             1.141490         1.413603            48.063272   \n",
       "min        1.00000             2.000000         1.000000            96.000000   \n",
       "25%     2750.50000             3.000000         2.000000           169.000000   \n",
       "50%     5500.00000             4.000000         3.000000           214.000000   \n",
       "75%     8249.50000             5.000000         4.000000           251.000000   \n",
       "max    10999.00000             7.000000         5.000000           310.000000   \n",
       "\n",
       "       Prior_purchases  Discount_offered  Weight_in_gms  Reached.on.Time_Y.N  \n",
       "count     10999.000000      10999.000000   10999.000000         10999.000000  \n",
       "mean          3.567597         13.373216    3634.016729             0.596691  \n",
       "std           1.522860         16.205527    1635.377251             0.490584  \n",
       "min           2.000000          1.000000    1001.000000             0.000000  \n",
       "25%           3.000000          4.000000    1839.500000             0.000000  \n",
       "50%           3.000000          7.000000    4149.000000             1.000000  \n",
       "75%           4.000000         10.000000    5050.000000             1.000000  \n",
       "max          10.000000         65.000000    7846.000000             1.000000  "
      ]
     },
     "execution_count": 5,
     "metadata": {},
     "output_type": "execute_result"
    }
   ],
   "source": [
    "df.describe()"
   ]
  },
  {
   "cell_type": "markdown",
   "metadata": {
    "id": "eZ9brntVQ-Pt"
   },
   "source": [
    "##Checking Null Values"
   ]
  },
  {
   "cell_type": "code",
   "execution_count": null,
   "metadata": {
    "colab": {
     "base_uri": "https://localhost:8080/"
    },
    "id": "G9LPBzH5TPLu",
    "outputId": "b47a001f-320d-45d2-f42f-7763b3d9a405"
   },
   "outputs": [
    {
     "name": "stdout",
     "output_type": "stream",
     "text": [
      "<class 'pandas.core.frame.DataFrame'>\n",
      "RangeIndex: 10999 entries, 0 to 10998\n",
      "Data columns (total 12 columns):\n",
      " #   Column               Non-Null Count  Dtype \n",
      "---  ------               --------------  ----- \n",
      " 0   ID                   10999 non-null  int64 \n",
      " 1   Warehouse_block      10999 non-null  object\n",
      " 2   Mode_of_Shipment     10999 non-null  object\n",
      " 3   Customer_care_calls  10999 non-null  int64 \n",
      " 4   Customer_rating      10999 non-null  int64 \n",
      " 5   Cost_of_the_Product  10999 non-null  int64 \n",
      " 6   Prior_purchases      10999 non-null  int64 \n",
      " 7   Product_importance   10999 non-null  object\n",
      " 8   Gender               10999 non-null  object\n",
      " 9   Discount_offered     10999 non-null  int64 \n",
      " 10  Weight_in_gms        10999 non-null  int64 \n",
      " 11  Reached.on.Time_Y.N  10999 non-null  int64 \n",
      "dtypes: int64(8), object(4)\n",
      "memory usage: 1.0+ MB\n"
     ]
    }
   ],
   "source": [
    "df.info()"
   ]
  },
  {
   "cell_type": "code",
   "execution_count": null,
   "metadata": {
    "colab": {
     "base_uri": "https://localhost:8080/",
     "height": 898
    },
    "id": "2OWVr-3ZQo-u",
    "outputId": "0ed8eb77-9e95-46ea-9b30-90a65dac8f19"
   },
   "outputs": [
    {
     "ename": "ModuleNotFoundError",
     "evalue": "No module named 'missingno'",
     "output_type": "error",
     "traceback": [
      "\u001b[1;31m---------------------------------------------------------------------------\u001b[0m",
      "\u001b[1;31mModuleNotFoundError\u001b[0m                       Traceback (most recent call last)",
      "\u001b[1;32m~\\AppData\\Local\\Temp\\ipykernel_4632\\598288537.py\u001b[0m in \u001b[0;36m<module>\u001b[1;34m\u001b[0m\n\u001b[1;32m----> 1\u001b[1;33m \u001b[1;32mimport\u001b[0m \u001b[0mmissingno\u001b[0m \u001b[1;32mas\u001b[0m \u001b[0mmsno\u001b[0m\u001b[1;33m\u001b[0m\u001b[1;33m\u001b[0m\u001b[0m\n\u001b[0m\u001b[0;32m      2\u001b[0m \u001b[0mmsno\u001b[0m\u001b[1;33m.\u001b[0m\u001b[0mbar\u001b[0m\u001b[1;33m(\u001b[0m\u001b[0mdf\u001b[0m\u001b[1;33m,\u001b[0m \u001b[0mcolor\u001b[0m \u001b[1;33m=\u001b[0m \u001b[1;34m'red'\u001b[0m\u001b[1;33m)\u001b[0m\u001b[1;33m\u001b[0m\u001b[1;33m\u001b[0m\u001b[0m\n\u001b[0;32m      3\u001b[0m \u001b[0mplt\u001b[0m\u001b[1;33m.\u001b[0m\u001b[0mtitle\u001b[0m\u001b[1;33m(\u001b[0m\u001b[1;34m'Checking for Null Values\\n'\u001b[0m\u001b[1;33m,\u001b[0m \u001b[0mfontsize\u001b[0m \u001b[1;33m=\u001b[0m \u001b[1;36m40\u001b[0m\u001b[1;33m)\u001b[0m\u001b[1;33m\u001b[0m\u001b[1;33m\u001b[0m\u001b[0m\n\u001b[0;32m      4\u001b[0m \u001b[0mplt\u001b[0m\u001b[1;33m.\u001b[0m\u001b[0mshow\u001b[0m\u001b[1;33m(\u001b[0m\u001b[1;33m)\u001b[0m\u001b[1;33m\u001b[0m\u001b[1;33m\u001b[0m\u001b[0m\n",
      "\u001b[1;31mModuleNotFoundError\u001b[0m: No module named 'missingno'"
     ]
    }
   ],
   "source": [
    "import missingno as msno\n",
    "msno.bar(df, color = 'red')\n",
    "plt.title('Checking for Null Values\\n', fontsize = 40)\n",
    "plt.show()"
   ]
  },
  {
   "cell_type": "markdown",
   "metadata": {
    "id": "fCZWIYt8tdcW"
   },
   "source": [
    "Tidak ada data null \n",
    "\n",
    "Type data sudah sesuai semua\n"
   ]
  },
  {
   "cell_type": "markdown",
   "metadata": {
    "id": "IdO3X0TeRND6"
   },
   "source": [
    "## Checking how many order reached on time"
   ]
  },
  {
   "cell_type": "code",
   "execution_count": 8,
   "metadata": {
    "colab": {
     "base_uri": "https://localhost:8080/",
     "height": 551
    },
    "id": "VPxDRWVn7_rb",
    "outputId": "5b3ddd01-d042-4edf-c04c-371c9c180b2b"
   },
   "outputs": [
    {
     "data": {
      "text/plain": [
       "<AxesSubplot:xlabel='Reached.on.Time_Y.N', ylabel='count'>"
      ]
     },
     "execution_count": 8,
     "metadata": {},
     "output_type": "execute_result"
    },
    {
     "data": {
      "image/png": "[encoded data removed]",
      "text/plain": [
       "<Figure size 1500x800 with 1 Axes>"
      ]
     },
     "metadata": {},
     "output_type": "display_data"
    }
   ],
   "source": [
    "plt.figure(figsize= (15,8))\n",
    "sns.countplot(data=df, x='Reached.on.Time_Y.N')"
   ]
  },
  {
   "cell_type": "code",
   "execution_count": null,
   "metadata": {
    "colab": {
     "base_uri": "https://localhost:8080/"
    },
    "id": "7dmX-Yje8pJD",
    "outputId": "7fd9d3ce-767e-43ed-8d41-aec0d9965914"
   },
   "outputs": [],
   "source": [
    "df['Reached.on.Time_Y.N'].value_counts()"
   ]
  },
  {
   "cell_type": "markdown",
   "metadata": {
    "id": "TrHDZO3N8rAt"
   },
   "source": [
    "Dari Visualisasi countplot terlihat 60% dari total pesanan tidak terkirim tepat waktu kepada pelanggan."
   ]
  },
  {
   "cell_type": "markdown",
   "metadata": {
    "id": "kbDNYaU2Tkt2"
   },
   "source": [
    "## Seperating Numerical & Categorical Columns"
   ]
  },
  {
   "cell_type": "code",
   "execution_count": null,
   "metadata": {
    "id": "hG4yXN_bTiva"
   },
   "outputs": [],
   "source": [
    "df_numerical = df.select_dtypes(exclude='object')\n",
    "df_categorical = df.select_dtypes(include='object')"
   ]
  },
  {
   "cell_type": "code",
   "execution_count": null,
   "metadata": {
    "colab": {
     "base_uri": "https://localhost:8080/",
     "height": 424
    },
    "id": "7EhfLDbTTrn7",
    "outputId": "c8f73291-588e-41f6-c220-486f704eadae"
   },
   "outputs": [],
   "source": [
    "df_numerical"
   ]
  },
  {
   "cell_type": "code",
   "execution_count": null,
   "metadata": {
    "colab": {
     "base_uri": "https://localhost:8080/",
     "height": 424
    },
    "id": "5kjTQgqFTuqF",
    "outputId": "b210d07e-7e61-44c4-894f-568577713e5c"
   },
   "outputs": [],
   "source": [
    "df_categorical"
   ]
  },
  {
   "cell_type": "code",
   "execution_count": null,
   "metadata": {
    "id": "A9qrYqrsT2TV"
   },
   "outputs": [],
   "source": [
    "numerical = df_numerical.columns.values\n",
    "categorical = df_categorical.columns.values"
   ]
  },
  {
   "cell_type": "markdown",
   "metadata": {
    "id": "wENuWgO9WVB6"
   },
   "source": [
    "## Numerical Feature"
   ]
  },
  {
   "cell_type": "code",
   "execution_count": null,
   "metadata": {
    "colab": {
     "base_uri": "https://localhost:8080/",
     "height": 509
    },
    "id": "_t9m8krDTzmh",
    "outputId": "f8a0107f-5d43-40be-943b-24a299e41681"
   },
   "outputs": [],
   "source": [
    "plt.figure(figsize=(20,7))\n",
    "pal = sns.color_palette()\n",
    "for i in range(0, len(numerical)):\n",
    "    plt.subplot(2, 4, i+1)\n",
    "    sns.kdeplot(x=df[numerical[i]], color=pal[i])\n",
    "    plt.xlabel(numerical[i])\n",
    "    plt.tight_layout()"
   ]
  },
  {
   "cell_type": "code",
   "execution_count": null,
   "metadata": {
    "colab": {
     "base_uri": "https://localhost:8080/",
     "height": 509
    },
    "id": "Emh7rguoeRRs",
    "outputId": "33156fe7-42cf-427b-9ba6-cbeec7d8627e"
   },
   "outputs": [],
   "source": [
    "plt.figure(figsize=(20,7))\n",
    "pal = sns.color_palette()\n",
    "for i in range(0, len(numerical)):\n",
    "    plt.subplot(2, 4, i+1)\n",
    "    sns.histplot(x=df[numerical[i]], color=pal[i])\n",
    "    plt.xlabel(numerical[i])\n",
    "    plt.tight_layout()"
   ]
  },
  {
   "cell_type": "markdown",
   "metadata": {
    "id": "gtw50pCXegPl"
   },
   "source": [
    "### Interpretasi:  Tolong !!!\n",
    "\n",
    "\n"
   ]
  },
  {
   "cell_type": "markdown",
   "metadata": {
    "id": "NS-lc5dtewZJ"
   },
   "source": [
    "## Categorical Feature"
   ]
  },
  {
   "cell_type": "code",
   "execution_count": null,
   "metadata": {
    "colab": {
     "base_uri": "https://localhost:8080/",
     "height": 725
    },
    "id": "XQaz-9UBe3R2",
    "outputId": "20eba0fa-86f5-4432-86c6-5a425040081b"
   },
   "outputs": [],
   "source": [
    "plt.figure(figsize=(13,10))\n",
    "for i in range(0, len(categorical)):\n",
    "    plt.subplot(2, 2, i+1)\n",
    "    sns.histplot(df[categorical[i]], shrink=0.8)\n",
    "    plt.tight_layout()"
   ]
  },
  {
   "cell_type": "markdown",
   "metadata": {
    "id": "VgEIOtzOfFYE"
   },
   "source": [
    "### Interpretasi:  Tolong !!!"
   ]
  },
  {
   "cell_type": "markdown",
   "metadata": {
    "id": "53fa1198-4109-4e8c-ae33-7aaa6e8fa717",
    "tags": []
   },
   "source": [
    "## Data Exploration"
   ]
  },
  {
   "cell_type": "code",
   "execution_count": null,
   "metadata": {
    "colab": {
     "base_uri": "https://localhost:8080/",
     "height": 1000
    },
    "id": "ff165eda-7d27-4e3a-9acc-e9bbd770f544",
    "outputId": "59b6be20-a56d-4b70-a013-00fa76075fff"
   },
   "outputs": [],
   "source": [
    "feat = ['Warehouse_block', 'Mode_of_Shipment', 'Customer_care_calls', 'Customer_rating', 'Prior_purchases', 'Product_importance', 'Gender']\n",
    "for f in feat:\n",
    "    fig, ax = plt.subplots(figsize=(8, 4))\n",
    "    sns.countplot(x=f,data=df,hue=\"Reached.on.Time_Y.N\")\n",
    "    ax.legend([\"Delivered on time\",\"Not delivered on time\"],loc='upper center', bbox_to_anchor=(0.5, -0.2), ncol=2, borderpad=1, frameon=True, fontsize=10)"
   ]
  },
  {
   "cell_type": "markdown",
   "metadata": {
    "id": "de94e600-0a92-46b6-8fc0-b94fac6614b8"
   },
   "source": [
    "### Interpretasi\n",
    "\n",
    "Customer rating kok kayak kelihatan tidak mempengaruhi ke pesanan dikirim tepat waktu atau tidak ya ?\n",
    "\n",
    "Customer_care_calls yang menelepon perusahaan 4 - 6 kali memiliki kecenderungan pesanan akan dikirimkan tepat waktu\n"
   ]
  },
  {
   "cell_type": "markdown",
   "metadata": {
    "id": "e171903c-d095-4d38-b00d-6ca59ee836c3"
   },
   "source": [
    "## Checking Outliers"
   ]
  },
  {
   "cell_type": "code",
   "execution_count": null,
   "metadata": {
    "colab": {
     "base_uri": "https://localhost:8080/",
     "height": 293
    },
    "id": "bc0c8ad3-9f4d-425a-aee6-90cfef5e1957",
    "outputId": "1d680ff2-6707-403e-ebaa-bca2b62461ee"
   },
   "outputs": [],
   "source": [
    "for i in range(0, len(numerical)):\n",
    "    plt.subplot(1, len(numerical), i+1)\n",
    "    sns.boxplot(y=df[numerical[i]], color='lightblue',  orient='v')\n",
    "    plt.tight_layout()"
   ]
  },
  {
   "cell_type": "markdown",
   "metadata": {
    "id": "7041ee17-b9e4-4305-b6f7-27c6c03e0d41"
   },
   "source": [
    "### Interpretasi\n"
   ]
  },
  {
   "cell_type": "markdown",
   "metadata": {
    "id": "de2fef97-4a6e-4290-b9e5-56f3883d6a78",
    "tags": []
   },
   "source": [
    "## Heatmap"
   ]
  },
  {
   "cell_type": "code",
   "execution_count": null,
   "metadata": {
    "id": "a21b3d5a-e2fc-43dc-a260-65dc97cbf089"
   },
   "outputs": [],
   "source": [
    "df.drop(columns = 'ID', inplace = True)"
   ]
  },
  {
   "cell_type": "code",
   "execution_count": null,
   "metadata": {
    "colab": {
     "base_uri": "https://localhost:8080/",
     "height": 639
    },
    "id": "5177cf2a-4dc8-4621-9cc8-742850770ea0",
    "outputId": "f13843a2-a64a-44e6-decf-a07d75feac12"
   },
   "outputs": [],
   "source": [
    "plt.figure(figsize = (20, 10))\n",
    "sns.heatmap(df.corr(), annot = True, annot_kws = {'size' : 20}, linewidth = 2, linecolor = 'white')\n",
    "plt.show()"
   ]
  },
  {
   "cell_type": "markdown",
   "metadata": {
    "id": "c7413601-4579-4957-b639-8917a21a6bef"
   },
   "source": [
    "### Interpretasi"
   ]
  },
  {
   "cell_type": "markdown",
   "metadata": {
    "id": "8aeab041-d079-4f14-bdc9-081875d99bf7"
   },
   "source": [
    "Setiap feature memengaruhi feature lain dalam dataframe. \n",
    "Tujuan heatmap adalah untuk melihat korelasi antar feature\n",
    "\n",
    "\n",
    "#### Korelasi Positif dan Negatif\n",
    "- Dikatakan korelasi positif ketika dua variabel bergerak bersamaan, artinya ketika satu naik, yang lain biasanya akan naik juga.\n",
    "- Dikatakan negatif ketika dua variabel cenderung bergerak berlawanan satu sama lain sehingga ketika satu variabel naik, variabel lainnya cenderung turun.\n",
    "\n",
    "#### Kesimpulan dari Heatmap :\n",
    "- Discount offered berkorelasi positif tinggi dengan feature target Reached on Time or Not sebesar 40%.\n",
    "- Discount offered berkorelasi negatif dengan Weight in gms -38%.\n",
    "- Customer care calls berkorelasi positif dengan cost of the product 32%.\n",
    "- Customer care calls dan weight in gms memiliki korelasi negatif -28%\n"
   ]
  },
  {
   "cell_type": "markdown",
   "metadata": {
    "id": "OgOwIDVEOZfN"
   },
   "source": [
    "# Stage 2 Pre-processing Data"
   ]
  },
  {
   "cell_type": "markdown",
   "metadata": {
    "id": "RX7UQD7WOpWH"
   },
   "source": [
    "## Handle Outliers\n",
    "\n",
    "### Z-Score Outliers"
   ]
  },
  {
   "cell_type": "code",
   "execution_count": null,
   "metadata": {
    "id": "ch2_Yw5TOeyF"
   },
   "outputs": [],
   "source": [
    "df_outliers = ['Prior_purchases', 'Discount_offered']"
   ]
  },
  {
   "cell_type": "code",
   "execution_count": null,
   "metadata": {
    "colab": {
     "base_uri": "https://localhost:8080/"
    },
    "id": "V5frkoykO21Y",
    "outputId": "d2615b82-ed17-4bfe-cfe5-73dde8301096"
   },
   "outputs": [],
   "source": [
    "from scipy.stats import zscore\n",
    "\n",
    "for i in df_outliers:\n",
    "    print(i)\n",
    "    z_scores = zscore(df[i])\n",
    "    print(\"*\"*50)\n",
    "    for threshold in np.arange(1,5,0.5):\n",
    "        print(\"Treshold: {}\".format(threshold))\n",
    "        print(\"Amount of Outliers: {}\".format(len((np.where(z_scores >= threshold)[0]))))\n",
    "        print('------')"
   ]
  },
  {
   "cell_type": "markdown",
   "metadata": {
    "id": "fdlDFa07PBsd"
   },
   "source": [
    "### Decision"
   ]
  },
  {
   "cell_type": "code",
   "execution_count": null,
   "metadata": {
    "colab": {
     "base_uri": "https://localhost:8080/"
    },
    "id": "ruKyr_RFPKlr",
    "outputId": "57132c08-944f-4b51-c510-6895d2928fa2"
   },
   "outputs": [],
   "source": [
    "print(f'Number of rows before deleting outliers: {len(df)}')\n",
    "\n",
    "filtered_entries = np.array([True] * len(df))\n",
    "\n",
    "for col in ['Prior_purchases','Discount_offered']:\n",
    "    zscore = abs(stats.zscore(df[col]))\n",
    "    filtered_entries = (zscore <= 2) & filtered_entries # keep data \n",
    "    \n",
    "dfz = df[filtered_entries]\n",
    "\n",
    "print(f'Number of row after deleting outliers: {len(dfz)}')"
   ]
  },
  {
   "cell_type": "markdown",
   "metadata": {
    "id": "RTqeAwW_PrP0"
   },
   "source": []
  },
  {
   "cell_type": "markdown",
   "metadata": {
    "id": "05073351-8566-4250-aa78-b542c422eeab"
   },
   "source": [
    "## Encoding"
   ]
  },
  {
   "cell_type": "markdown",
   "metadata": {
    "id": "4260ff05-b845-42b8-984f-117928c79a64"
   },
   "source": [
    "### Gender Encoding"
   ]
  },
  {
   "cell_type": "code",
   "execution_count": null,
   "metadata": {
    "id": "a5a6502c-ac30-4d37-a5db-f88e2f72359d"
   },
   "outputs": [],
   "source": [
    "map_gender = {'M' : 0, 'F':1}\n",
    "dfz['enc_gender'] = df['Gender'].map(map_gender)"
   ]
  },
  {
   "cell_type": "markdown",
   "metadata": {
    "id": "2c98cc48-e30d-475d-a838-a30c6d3346c8"
   },
   "source": [
    "### Product Importance Encoding"
   ]
  },
  {
   "cell_type": "code",
   "execution_count": null,
   "metadata": {
    "id": "776353aa-2680-4263-9298-9ff869c53819"
   },
   "outputs": [],
   "source": [
    "map_Pi = {'low' : 0, 'medium':1, 'high':2}\n",
    "dfz['enc_Product_importance'] = df['Product_importance'].map(map_Pi)"
   ]
  },
  {
   "cell_type": "markdown",
   "metadata": {
    "id": "32d72bc8-f02a-452f-aba7-f1f0537514a7"
   },
   "source": [
    "### Mode of Shipment Encoding"
   ]
  },
  {
   "cell_type": "code",
   "execution_count": null,
   "metadata": {
    "id": "33a8f78a-c596-4fc0-ac2a-84f3916dc676"
   },
   "outputs": [],
   "source": [
    "ohe_ship = pd.get_dummies(df['Mode_of_Shipment'], prefix='mode')\n",
    "dfz = dfz.join(ohe_ship)"
   ]
  },
  {
   "cell_type": "markdown",
   "metadata": {
    "id": "1e303a00-654e-4073-af46-f22d063aaedb"
   },
   "source": [
    "### Warehouse Block Encoding"
   ]
  },
  {
   "cell_type": "code",
   "execution_count": null,
   "metadata": {
    "id": "f393d190-d8bd-4573-ab60-093bbb098d28"
   },
   "outputs": [],
   "source": [
    "ohe_ware = pd.get_dummies(df['Warehouse_block'], prefix='Warehouse')\n",
    "df_final = dfz.join(ohe_ware)"
   ]
  },
  {
   "cell_type": "code",
   "execution_count": null,
   "metadata": {
    "colab": {
     "base_uri": "https://localhost:8080/",
     "height": 488
    },
    "id": "65ac96f0-6553-47a0-ac91-ad67861cf504",
    "outputId": "949cf055-4dda-462e-d364-0010f98df01b"
   },
   "outputs": [],
   "source": [
    "df_final"
   ]
  },
  {
   "cell_type": "code",
   "execution_count": null,
   "metadata": {
    "id": "3b073864-34d1-48fc-85fb-49ae16e24847"
   },
   "outputs": [],
   "source": [
    "from sklearn.preprocessing import StandardScaler as ss\n",
    "df_final['std_Customer_care_calls'] = ss().fit_transform(df_final['Customer_care_calls'].values.reshape(len(df_final),1))\n",
    "df_final['std_Customer_rating'] = ss().fit_transform(df_final['Customer_rating'].values.reshape(len(df_final),1))\n",
    "df_final['std_Cost_of_the_Product'] = ss().fit_transform(df_final['Cost_of_the_Product'].values.reshape(len(df_final),1))\n",
    "df_final['std_Prior_purchases'] = ss().fit_transform(df_final['Prior_purchases'].values.reshape(len(df_final),1))\n",
    "df_final['std_Discount_offered'] = ss().fit_transform(df_final['Discount_offered'].values.reshape(len(df_final),1))\n",
    "df_final['std_Weight_in_gms'] = ss().fit_transform(df_final['Weight_in_gms'].values.reshape(len(df_final),1))"
   ]
  },
  {
   "cell_type": "code",
   "execution_count": null,
   "metadata": {
    "colab": {
     "base_uri": "https://localhost:8080/",
     "height": 488
    },
    "id": "a84c2bce-0c05-4d25-8e88-c652b13a548f",
    "outputId": "b6373f50-fdc7-4f5f-9762-4c9e2cabeb8a"
   },
   "outputs": [],
   "source": [
    "df_final"
   ]
  },
  {
   "cell_type": "code",
   "execution_count": null,
   "metadata": {
    "id": "8298d560-1fef-494a-aa35-c247144473ca"
   },
   "outputs": [],
   "source": [
    "df_end = df_final.drop(columns = ['Warehouse_block', 'Mode_of_Shipment', 'Customer_care_calls',\n",
    "       'Customer_rating', 'Cost_of_the_Product', 'Prior_purchases',\n",
    "       'Product_importance', 'Gender', 'Discount_offered', 'Weight_in_gms', 'enc_gender'])"
   ]
  },
  {
   "cell_type": "code",
   "execution_count": null,
   "metadata": {
    "colab": {
     "base_uri": "https://localhost:8080/",
     "height": 488
    },
    "id": "e1ad4072-e9e4-4443-a12a-66b0477c877e",
    "outputId": "415a915a-86ad-4cbd-b434-c86fd19e0648"
   },
   "outputs": [],
   "source": [
    "df_end"
   ]
  },
  {
   "cell_type": "markdown",
   "metadata": {
    "id": "5ka1ZfCGQ7P9"
   },
   "source": []
  },
  {
   "cell_type": "markdown",
   "metadata": {
    "id": "9333463b-2211-4484-8011-0bc9ffadbdcf",
    "tags": []
   },
   "source": [
    "# Stage 3 Machine Learning"
   ]
  },
  {
   "cell_type": "markdown",
   "metadata": {
    "id": "8e60083e-6c84-4f52-baec-b3cacd0d84ff",
    "tags": []
   },
   "source": [
    "## Train & Test Split"
   ]
  },
  {
   "cell_type": "code",
   "execution_count": null,
   "metadata": {
    "id": "027500c4-222f-4e26-9ddb-5a09a0e2fdca"
   },
   "outputs": [],
   "source": [
    "X = df_end.drop(['Reached.on.Time_Y.N'], axis=1)\n",
    "y = df_end[['Reached.on.Time_Y.N']]\n",
    "X_train, X_test, y_train, y_test = train_test_split(X, y, test_size=0.3, random_state=17)"
   ]
  },
  {
   "cell_type": "code",
   "execution_count": null,
   "metadata": {
    "colab": {
     "base_uri": "https://localhost:8080/"
    },
    "id": "66b716a2-b442-4675-add0-506ba9a48409",
    "outputId": "7c580eca-b32e-4a3f-c9fa-23263a67b481"
   },
   "outputs": [],
   "source": [
    "y_train['Reached.on.Time_Y.N'].value_counts()"
   ]
  },
  {
   "cell_type": "markdown",
   "metadata": {
    "id": "e3951e53-ca71-4944-99f4-e785495584e9"
   },
   "source": [
    "## Model Evaluation"
   ]
  }
 ],
 "metadata": {
  "colab": {
   "provenance": []
  },
  "kernelspec": {
   "display_name": "Python 3 (ipykernel)",
   "language": "python",
   "name": "python3"
  },
  "language_info": {
   "codemirror_mode": {
    "name": "ipython",
    "version": 3
   },
   "file_extension": ".py",
   "mimetype": "text/x-python",
   "name": "python",
   "nbconvert_exporter": "python",
   "pygments_lexer": "ipython3",
   "version": "3.9.13"
  }
 },
 "nbformat": 4,
 "nbformat_minor": 4
}
